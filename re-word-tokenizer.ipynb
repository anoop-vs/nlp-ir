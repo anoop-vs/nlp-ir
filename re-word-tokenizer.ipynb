{
 "cells": [
  {
   "cell_type": "code",
   "execution_count": 3,
   "id": "f24b35c3-8fb8-413d-b9db-e1cbf5e9c25b",
   "metadata": {},
   "outputs": [],
   "source": [
    "#import regular expression library\n",
    "import re"
   ]
  },
  {
   "cell_type": "code",
   "execution_count": 6,
   "id": "7a4a8114-f37f-4b52-b5bc-87e809d19467",
   "metadata": {},
   "outputs": [],
   "source": [
    "#some text to work with\n",
    "text = '''DUK was established by the Government of Kerala by upgrading the Indian Institute of Information Technology & Management-Kerala (IIITM-K), which was established by the Government in the year 2000. DUK will commence the application process for MSc, MTech, MBA and PG Diploma programs for the academic year 2023 – 2024 in the month of March-May. As a student on these programs, you will form a part of an exciting learning environment in a verdant campus in Technocity, Thiruvananthapuram. Duk is a great University'''"
   ]
  },
  {
   "cell_type": "code",
   "execution_count": 9,
   "id": "3bd7a58d-ec09-4c51-8e63-8ed72e77b513",
   "metadata": {},
   "outputs": [
    {
     "data": {
      "text/plain": [
       "['DUK', 'DUK']"
      ]
     },
     "execution_count": 9,
     "metadata": {},
     "output_type": "execute_result"
    }
   ],
   "source": [
    "#finding all the occurrences of DUK\n",
    "#The findall() function takes two parameters, the first is the pattern being searched, in our case, duk_occ and the second parameter is text we are searching through, in our case, text. \n",
    "#As you can see, this function returns all the non-overlapping matches of the pattern which is in the duk_occ variables, from the second parameter text.\n",
    "#Please note that findall() is case sensitive\n",
    "duk_occ = \"DUK\"\n",
    "re.findall(duk_occ, text)"
   ]
  },
  {
   "cell_type": "code",
   "execution_count": 12,
   "id": "9ec6bea2-925b-464f-a730-c485040359ec",
   "metadata": {},
   "outputs": [
    {
     "data": {
      "text/plain": [
       "['DUK', 'DUK', 'Duk']"
      ]
     },
     "execution_count": 12,
     "metadata": {},
     "output_type": "execute_result"
    }
   ],
   "source": [
    "#Lets see this example, where the case is ignored.\n",
    "duk_occ = \"DUK\"\n",
    "re.findall(duk_occ,text,flags=re.IGNORECASE)"
   ]
  },
  {
   "cell_type": "code",
   "execution_count": 13,
   "id": "5603b502-d7b6-4235-963d-a1ef2de16f6d",
   "metadata": {},
   "outputs": [
    {
     "data": {
      "text/plain": [
       "['DUK', 'Kerala', 'Kerala', 'DUK', 'Duk']"
      ]
     },
     "execution_count": 13,
     "metadata": {},
     "output_type": "execute_result"
    }
   ],
   "source": [
    "#We can also search multiple patterns and extract all occurrences of those patterns. \n",
    "duk_kerala=\"DUK|Kerala\"\n",
    "re.findall(duk_kerala,text,flags=re.IGNORECASE)"
   ]
  },
  {
   "cell_type": "code",
   "execution_count": 14,
   "id": "2fb7cc54-2b7d-4608-ad16-5714892350cb",
   "metadata": {},
   "outputs": [],
   "source": [
    "#Extract words that only contain alphabets\n",
    "gifts = \"\\\n",
    "Basketball    2    25.63\\\n",
    "Tshirt     4   53.92\\\n",
    "Sneakers    1    30.58\\\n",
    "Mask    10   80.54\\\n",
    "GiftCard    2    50.00\""
   ]
  },
  {
   "cell_type": "code",
   "execution_count": 16,
   "id": "64db88a9-5141-4eed-aee9-0c4533525913",
   "metadata": {},
   "outputs": [
    {
     "data": {
      "text/plain": [
       "['Basketball', 'Tshirt', 'Sneakers', 'Mask', 'GiftCard']"
      ]
     },
     "execution_count": 16,
     "metadata": {},
     "output_type": "execute_result"
    }
   ],
   "source": [
    "#pattern for only words\n",
    "words = '[a-z]+'\n",
    "re.findall(words,gifts,flags=re.IGNORECASE)"
   ]
  },
  {
   "cell_type": "code",
   "execution_count": 18,
   "id": "e75ed8e7-2860-4bc8-b7dc-3e15049276ea",
   "metadata": {},
   "outputs": [
    {
     "data": {
      "text/plain": [
       "['36',\n",
       " '18',\n",
       " '52',\n",
       " '20',\n",
       " '52',\n",
       " '6',\n",
       " '97',\n",
       " '10',\n",
       " '18',\n",
       " '28',\n",
       " '23',\n",
       " '5',\n",
       " '12',\n",
       " '36']"
      ]
     },
     "execution_count": 18,
     "metadata": {},
     "output_type": "execute_result"
    }
   ],
   "source": [
    "#Extracting all occurrences of numbers\n",
    "news = '''Sixty-six undergraduate students from an urban college in New York City participated in this study. Students participated in this research study as part of a requirement for a class. Nineteen participants were excluded from the study for meeting one or more exclusion criteria including not completing the sentence unscrambling task, not providing ratings for each of the traits, or failing either one of the two attention checks, leaving the total number of eligible participants at forty-seven. Participants included 36 women aged 18 to 52 years old (M = 20.52, SD = 6.97), 10 men aged 18 to 28 years old (M = 23.5, SD = 12.36), and one individual who did not disclose their sex'''\n",
    "\n",
    "numbers=\"\\d+\"\n",
    "re.findall(numbers,news)"
   ]
  },
  {
   "cell_type": "code",
   "execution_count": 21,
   "id": "d6f605a6-f251-4d30-92e4-6d0b8c7ee074",
   "metadata": {},
   "outputs": [
    {
     "data": {
      "text/plain": [
       "['36', '18', '52', '20.52', '6.97', '10', '18', '28', '23.5', '12.36']"
      ]
     },
     "execution_count": 21,
     "metadata": {},
     "output_type": "execute_result"
    }
   ],
   "source": [
    "#By setting our pattern to \\d, this signifies to one digit, while the + operator will include repetitions of digits. As you can see from our text, we also have decimals, but from our output they were separated by the “.” We can correct this by using the following regular expression:\n",
    "all_numbers=\"\\d+\\.*?\\d+\"\n",
    "re.findall(all_numbers,news)"
   ]
  },
  {
   "cell_type": "code",
   "execution_count": 37,
   "id": "8e2a0a7b-31ed-4db1-9a6e-f9b42b1741fb",
   "metadata": {},
   "outputs": [
    {
     "name": "stdout",
     "output_type": "stream",
     "text": [
      "<re.Match object; span=(0, 28), match='DUK is in Thiruvananthapuram'>\n"
     ]
    }
   ],
   "source": [
    "txt = \"DUK is in Thiruvananthapuram\"\n",
    "x = re.search(\"^DUK.*puram$\", txt)\n",
    "print(x)"
   ]
  },
  {
   "cell_type": "code",
   "execution_count": 38,
   "id": "8162f70d-0c07-4200-ad10-3e150b66b3f9",
   "metadata": {},
   "outputs": [
    {
     "name": "stdout",
     "output_type": "stream",
     "text": [
      "['tha']\n"
     ]
    }
   ],
   "source": [
    "txt = \"DUK is in Thiruvananthapuram\"\n",
    "x = re.findall(\"tha\", txt)\n",
    "print(x)"
   ]
  },
  {
   "cell_type": "code",
   "execution_count": 39,
   "id": "f4b4dec5-5388-4394-a0ee-477a6eda2ad9",
   "metadata": {},
   "outputs": [
    {
     "name": "stdout",
     "output_type": "stream",
     "text": [
      "[]\n"
     ]
    }
   ],
   "source": [
    "txt = \"DUK is in Thiruvananthapuram\"\n",
    "x = re.findall(\"Kottayam\", txt)\n",
    "print(x)"
   ]
  },
  {
   "cell_type": "code",
   "execution_count": 40,
   "id": "11729af4-ea15-4ee5-b378-b7cd44437e19",
   "metadata": {},
   "outputs": [
    {
     "name": "stdout",
     "output_type": "stream",
     "text": [
      "The first white-space character is located in position: 3\n"
     ]
    }
   ],
   "source": [
    "txt = \"DUK is in Thiruvananthapuram\"\n",
    "x = re.search(\"\\s\", txt)\n",
    "\n",
    "print(\"The first white-space character is located in position:\", x.start())"
   ]
  },
  {
   "cell_type": "code",
   "execution_count": 41,
   "id": "f2840e25-76b1-47a0-b831-cb908d78ac92",
   "metadata": {},
   "outputs": [
    {
     "name": "stdout",
     "output_type": "stream",
     "text": [
      "['DUK', 'is', 'in', 'Thiruvananthapuram']\n"
     ]
    }
   ],
   "source": [
    "txt = \"DUK is in Thiruvananthapuram\"\n",
    "x = re.split(\"\\s\", txt)\n",
    "print(x)"
   ]
  },
  {
   "cell_type": "code",
   "execution_count": 42,
   "id": "a396ce5a-6c5c-46dd-8adc-52f36d217ba4",
   "metadata": {},
   "outputs": [
    {
     "name": "stdout",
     "output_type": "stream",
     "text": [
      "['DUK', 'is in Thiruvananthapuram']\n"
     ]
    }
   ],
   "source": [
    "txt = \"DUK is in Thiruvananthapuram\"\n",
    "x = re.split(\"\\s\", txt, 1)\n",
    "print(x)"
   ]
  },
  {
   "cell_type": "code",
   "execution_count": 43,
   "id": "0612fb53-a221-4854-a555-a20785e83286",
   "metadata": {},
   "outputs": [
    {
     "name": "stdout",
     "output_type": "stream",
     "text": [
      "DUK2023is2023in2023Thiruvananthapuram\n"
     ]
    }
   ],
   "source": [
    "txt = \"DUK is in Thiruvananthapuram\"\n",
    "x = re.sub(\"\\s\", \"2023\", txt)\n",
    "print(x)"
   ]
  },
  {
   "cell_type": "code",
   "execution_count": 44,
   "id": "d6db50c6-6dd3-4f74-b1ae-154d7d8834fb",
   "metadata": {},
   "outputs": [
    {
     "name": "stdout",
     "output_type": "stream",
     "text": [
      "DUK2023is2023in Thiruvananthapuram\n"
     ]
    }
   ],
   "source": [
    "txt = \"DUK is in Thiruvananthapuram\"\n",
    "x = re.sub(\"\\s\", \"2023\", txt, 2)\n",
    "print(x)"
   ]
  },
  {
   "cell_type": "code",
   "execution_count": 46,
   "id": "c159c359-2404-4ea4-9ac7-d4d7ff812c30",
   "metadata": {},
   "outputs": [
    {
     "name": "stdout",
     "output_type": "stream",
     "text": [
      "<re.Match object; span=(10, 14), match='Thir'>\n"
     ]
    }
   ],
   "source": [
    "txt = \"DUK is in Thiruvananthapuram\"\n",
    "x = re.search(\"Thir\", txt)\n",
    "print(x) #this will print an object"
   ]
  },
  {
   "cell_type": "code",
   "execution_count": 48,
   "id": "c65542c5-e87e-4c77-bbd3-9a8b3d6b52c0",
   "metadata": {},
   "outputs": [
    {
     "name": "stdout",
     "output_type": "stream",
     "text": [
      "Thiruvananthapuram\n"
     ]
    }
   ],
   "source": [
    "txt = \"DUK is in Thiruvananthapuram\"\n",
    "x = re.search(r\"\\bT\\w+\", txt)\n",
    "print(x.group())"
   ]
  },
  {
   "cell_type": "code",
   "execution_count": 49,
   "id": "0ed42ca2-7ac0-4197-be88-351ae309db3c",
   "metadata": {},
   "outputs": [
    {
     "name": "stdout",
     "output_type": "stream",
     "text": [
      "['contact@duk.ac.in', 'feedback@duk.ac.in']\n"
     ]
    }
   ],
   "source": [
    "#extracting emails from text\n",
    "text = \"Please contact Digital University Kerala at contact@duk.ac.in for further information.\"+\\\n",
    "        \"You can also give feedback at feedback@duk.ac.in\"\n",
    "\n",
    "\n",
    "emails = re.findall(r\"[a-z0-9\\.\\-+_]+@[a-z0-9\\.\\-+_]+\\.[a-z]+\", text)\n",
    "print(emails)"
   ]
  },
  {
   "cell_type": "code",
   "execution_count": 51,
   "id": "cbe4a26e-a1e2-4ca3-b722-454410da3fe4",
   "metadata": {},
   "outputs": [
    {
     "data": {
      "text/plain": [
       "['+9197343323', '+56667778888']"
      ]
     },
     "execution_count": 51,
     "metadata": {},
     "output_type": "execute_result"
    }
   ],
   "source": [
    "#Validate phone number\n",
    "# Validate phone number\n",
    "import re\n",
    "\n",
    "validate_phone_number_pattern = \"^\\\\+?[1-9][0-9]{7,14}$\"\n",
    "re.match(validate_phone_number_pattern, \"+12223334444\") # Returns Match object\n",
    "\n",
    "# Extract phone number from a string\n",
    "extract_phone_number_pattern = \"\\\\+?[1-9][0-9]{7,14}\"\n",
    "re.findall(extract_phone_number_pattern, 'You can reach me out at +9197343323 and +56667778888') # returns ['+12223334444', '+56667778888']"
   ]
  },
  {
   "cell_type": "markdown",
   "id": "8648e51d-8c80-49b1-b108-1611c68e8296",
   "metadata": {},
   "source": [
    "# Word Tokenizer"
   ]
  },
  {
   "cell_type": "code",
   "execution_count": 52,
   "id": "ecccee74-bb24-4d6a-9a8f-65ba89d7f92e",
   "metadata": {},
   "outputs": [
    {
     "name": "stdout",
     "output_type": "stream",
     "text": [
      "Requirement already satisfied: nltk in c:\\users\\dr.anoop\\appdata\\local\\programs\\python\\python39\\lib\\site-packages (3.6.7)\n",
      "Requirement already satisfied: joblib in c:\\users\\dr.anoop\\appdata\\local\\programs\\python\\python39\\lib\\site-packages (from nltk) (1.2.0)\n",
      "Requirement already satisfied: regex>=2021.8.3 in c:\\users\\dr.anoop\\appdata\\local\\programs\\python\\python39\\lib\\site-packages (from nltk) (2022.10.31)\n",
      "Requirement already satisfied: click in c:\\users\\dr.anoop\\appdata\\local\\programs\\python\\python39\\lib\\site-packages (from nltk) (8.1.3)\n",
      "Requirement already satisfied: tqdm in c:\\users\\dr.anoop\\appdata\\local\\programs\\python\\python39\\lib\\site-packages (from nltk) (4.64.1)\n",
      "Requirement already satisfied: colorama in c:\\users\\dr.anoop\\appdata\\local\\programs\\python\\python39\\lib\\site-packages (from click->nltk) (0.4.6)\n"
     ]
    }
   ],
   "source": [
    "#install NLTK library\n",
    "!pip install nltk"
   ]
  },
  {
   "cell_type": "code",
   "execution_count": 54,
   "id": "31972dfc-d645-4b13-bdba-3da9653a8e68",
   "metadata": {},
   "outputs": [
    {
     "name": "stdout",
     "output_type": "stream",
     "text": [
      "['DUK', 'was', 'established', 'by', 'the', 'Government', 'of', 'Kerala', 'by', 'upgrading', 'the', 'Indian', 'Institute', 'of', 'Information', 'Technology', '&', 'Management-Kerala', '(', 'IIITM-K', ')', ',', 'which', 'was', 'established', 'by', 'the', 'Government', 'in', 'the', 'year', '2000', '.', 'DUK', 'will', 'commence', 'the', 'application', 'process', 'for', 'MSc', ',', 'MTech', ',', 'MBA', 'and', 'PG', 'Diploma', 'programs', 'for', 'the', 'academic', 'year', '2023', '–', '2024', 'in', 'the', 'month', 'of', 'March-May', '.', 'As', 'a', 'student', 'on', 'these', 'programs', ',', 'you', 'will', 'form', 'a', 'part', 'of', 'an', 'exciting', 'learning', 'environment', 'in', 'a', 'verdant', 'campus', 'in', 'Technocity', ',', 'Thiruvananthapuram', '.', 'Duk', 'is', 'a', 'great', 'University']\n"
     ]
    }
   ],
   "source": [
    "from nltk.tokenize import word_tokenize\n",
    "text = '''DUK was established by the Government of Kerala by upgrading the Indian Institute of Information Technology & Management-Kerala (IIITM-K), which was established by the Government in the year 2000. DUK will commence the application process for MSc, MTech, MBA and PG Diploma programs for the academic year 2023 – 2024 in the month of March-May. As a student on these programs, you will form a part of an exciting learning environment in a verdant campus in Technocity, Thiruvananthapuram. Duk is a great University'''\n",
    "print(word_tokenize(text))"
   ]
  },
  {
   "cell_type": "code",
   "execution_count": 55,
   "id": "7e436165-0bba-4024-851d-a80cce029f11",
   "metadata": {},
   "outputs": [
    {
     "name": "stdout",
     "output_type": "stream",
     "text": [
      "['DUK was established by the Government of Kerala by upgrading the Indian Institute of Information Technology & Management-Kerala (IIITM-K), which was established by the Government in the year 2000.', 'DUK will commence the application process for MSc, MTech, MBA and PG Diploma programs for the academic year 2023 – 2024 in the month of March-May.', 'As a student on these programs, you will form a part of an exciting learning environment in a verdant campus in Technocity, Thiruvananthapuram.', 'Duk is a great University']\n"
     ]
    }
   ],
   "source": [
    "from nltk.tokenize import sent_tokenize\n",
    "print(sent_tokenize(text))"
   ]
  }
 ],
 "metadata": {
  "kernelspec": {
   "display_name": "Python 3 (ipykernel)",
   "language": "python",
   "name": "python3"
  },
  "language_info": {
   "codemirror_mode": {
    "name": "ipython",
    "version": 3
   },
   "file_extension": ".py",
   "mimetype": "text/x-python",
   "name": "python",
   "nbconvert_exporter": "python",
   "pygments_lexer": "ipython3",
   "version": "3.9.11"
  }
 },
 "nbformat": 4,
 "nbformat_minor": 5
}
